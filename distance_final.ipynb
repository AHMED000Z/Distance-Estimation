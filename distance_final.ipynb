{
  "cells": [
    {
      "cell_type": "code",
      "source": [
        "from google.colab import drive\n",
        "drive.mount('/content/drive')"
      ],
      "metadata": {
        "colab": {
          "base_uri": "https://localhost:8080/"
        },
        "id": "WP_vpa0MmM99",
        "outputId": "29dcd5de-efc4-445a-9800-062293a4c15b"
      },
      "execution_count": 14,
      "outputs": [
        {
          "output_type": "stream",
          "name": "stdout",
          "text": [
            "Mounted at /content/drive\n"
          ]
        }
      ]
    },
    {
      "cell_type": "code",
      "source": [
        "!pip install ultralytics"
      ],
      "metadata": {
        "colab": {
          "base_uri": "https://localhost:8080/"
        },
        "id": "4eud3W3TjGVw",
        "outputId": "f6dae2a1-92bc-422f-f9a6-f7895d55b105"
      },
      "execution_count": 2,
      "outputs": [
        {
          "output_type": "stream",
          "name": "stdout",
          "text": [
            "Collecting ultralytics\n",
            "  Downloading ultralytics-8.3.155-py3-none-any.whl.metadata (37 kB)\n",
            "Requirement already satisfied: numpy>=1.23.0 in /usr/local/lib/python3.11/dist-packages (from ultralytics) (2.0.2)\n",
            "Requirement already satisfied: matplotlib>=3.3.0 in /usr/local/lib/python3.11/dist-packages (from ultralytics) (3.10.0)\n",
            "Requirement already satisfied: opencv-python>=4.6.0 in /usr/local/lib/python3.11/dist-packages (from ultralytics) (4.11.0.86)\n",
            "Requirement already satisfied: pillow>=7.1.2 in /usr/local/lib/python3.11/dist-packages (from ultralytics) (11.2.1)\n",
            "Requirement already satisfied: pyyaml>=5.3.1 in /usr/local/lib/python3.11/dist-packages (from ultralytics) (6.0.2)\n",
            "Requirement already satisfied: requests>=2.23.0 in /usr/local/lib/python3.11/dist-packages (from ultralytics) (2.32.3)\n",
            "Requirement already satisfied: scipy>=1.4.1 in /usr/local/lib/python3.11/dist-packages (from ultralytics) (1.15.3)\n",
            "Requirement already satisfied: torch>=1.8.0 in /usr/local/lib/python3.11/dist-packages (from ultralytics) (2.6.0+cu124)\n",
            "Requirement already satisfied: torchvision>=0.9.0 in /usr/local/lib/python3.11/dist-packages (from ultralytics) (0.21.0+cu124)\n",
            "Requirement already satisfied: tqdm>=4.64.0 in /usr/local/lib/python3.11/dist-packages (from ultralytics) (4.67.1)\n",
            "Requirement already satisfied: psutil in /usr/local/lib/python3.11/dist-packages (from ultralytics) (5.9.5)\n",
            "Requirement already satisfied: py-cpuinfo in /usr/local/lib/python3.11/dist-packages (from ultralytics) (9.0.0)\n",
            "Requirement already satisfied: pandas>=1.1.4 in /usr/local/lib/python3.11/dist-packages (from ultralytics) (2.2.2)\n",
            "Collecting ultralytics-thop>=2.0.0 (from ultralytics)\n",
            "  Downloading ultralytics_thop-2.0.14-py3-none-any.whl.metadata (9.4 kB)\n",
            "Requirement already satisfied: contourpy>=1.0.1 in /usr/local/lib/python3.11/dist-packages (from matplotlib>=3.3.0->ultralytics) (1.3.2)\n",
            "Requirement already satisfied: cycler>=0.10 in /usr/local/lib/python3.11/dist-packages (from matplotlib>=3.3.0->ultralytics) (0.12.1)\n",
            "Requirement already satisfied: fonttools>=4.22.0 in /usr/local/lib/python3.11/dist-packages (from matplotlib>=3.3.0->ultralytics) (4.58.2)\n",
            "Requirement already satisfied: kiwisolver>=1.3.1 in /usr/local/lib/python3.11/dist-packages (from matplotlib>=3.3.0->ultralytics) (1.4.8)\n",
            "Requirement already satisfied: packaging>=20.0 in /usr/local/lib/python3.11/dist-packages (from matplotlib>=3.3.0->ultralytics) (24.2)\n",
            "Requirement already satisfied: pyparsing>=2.3.1 in /usr/local/lib/python3.11/dist-packages (from matplotlib>=3.3.0->ultralytics) (3.2.3)\n",
            "Requirement already satisfied: python-dateutil>=2.7 in /usr/local/lib/python3.11/dist-packages (from matplotlib>=3.3.0->ultralytics) (2.9.0.post0)\n",
            "Requirement already satisfied: pytz>=2020.1 in /usr/local/lib/python3.11/dist-packages (from pandas>=1.1.4->ultralytics) (2025.2)\n",
            "Requirement already satisfied: tzdata>=2022.7 in /usr/local/lib/python3.11/dist-packages (from pandas>=1.1.4->ultralytics) (2025.2)\n",
            "Requirement already satisfied: charset-normalizer<4,>=2 in /usr/local/lib/python3.11/dist-packages (from requests>=2.23.0->ultralytics) (3.4.2)\n",
            "Requirement already satisfied: idna<4,>=2.5 in /usr/local/lib/python3.11/dist-packages (from requests>=2.23.0->ultralytics) (3.10)\n",
            "Requirement already satisfied: urllib3<3,>=1.21.1 in /usr/local/lib/python3.11/dist-packages (from requests>=2.23.0->ultralytics) (2.4.0)\n",
            "Requirement already satisfied: certifi>=2017.4.17 in /usr/local/lib/python3.11/dist-packages (from requests>=2.23.0->ultralytics) (2025.4.26)\n",
            "Requirement already satisfied: filelock in /usr/local/lib/python3.11/dist-packages (from torch>=1.8.0->ultralytics) (3.18.0)\n",
            "Requirement already satisfied: typing-extensions>=4.10.0 in /usr/local/lib/python3.11/dist-packages (from torch>=1.8.0->ultralytics) (4.14.0)\n",
            "Requirement already satisfied: networkx in /usr/local/lib/python3.11/dist-packages (from torch>=1.8.0->ultralytics) (3.5)\n",
            "Requirement already satisfied: jinja2 in /usr/local/lib/python3.11/dist-packages (from torch>=1.8.0->ultralytics) (3.1.6)\n",
            "Requirement already satisfied: fsspec in /usr/local/lib/python3.11/dist-packages (from torch>=1.8.0->ultralytics) (2025.3.2)\n",
            "Collecting nvidia-cuda-nvrtc-cu12==12.4.127 (from torch>=1.8.0->ultralytics)\n",
            "  Downloading nvidia_cuda_nvrtc_cu12-12.4.127-py3-none-manylinux2014_x86_64.whl.metadata (1.5 kB)\n",
            "Collecting nvidia-cuda-runtime-cu12==12.4.127 (from torch>=1.8.0->ultralytics)\n",
            "  Downloading nvidia_cuda_runtime_cu12-12.4.127-py3-none-manylinux2014_x86_64.whl.metadata (1.5 kB)\n",
            "Collecting nvidia-cuda-cupti-cu12==12.4.127 (from torch>=1.8.0->ultralytics)\n",
            "  Downloading nvidia_cuda_cupti_cu12-12.4.127-py3-none-manylinux2014_x86_64.whl.metadata (1.6 kB)\n",
            "Collecting nvidia-cudnn-cu12==9.1.0.70 (from torch>=1.8.0->ultralytics)\n",
            "  Downloading nvidia_cudnn_cu12-9.1.0.70-py3-none-manylinux2014_x86_64.whl.metadata (1.6 kB)\n",
            "Collecting nvidia-cublas-cu12==12.4.5.8 (from torch>=1.8.0->ultralytics)\n",
            "  Downloading nvidia_cublas_cu12-12.4.5.8-py3-none-manylinux2014_x86_64.whl.metadata (1.5 kB)\n",
            "Collecting nvidia-cufft-cu12==11.2.1.3 (from torch>=1.8.0->ultralytics)\n",
            "  Downloading nvidia_cufft_cu12-11.2.1.3-py3-none-manylinux2014_x86_64.whl.metadata (1.5 kB)\n",
            "Collecting nvidia-curand-cu12==10.3.5.147 (from torch>=1.8.0->ultralytics)\n",
            "  Downloading nvidia_curand_cu12-10.3.5.147-py3-none-manylinux2014_x86_64.whl.metadata (1.5 kB)\n",
            "Collecting nvidia-cusolver-cu12==11.6.1.9 (from torch>=1.8.0->ultralytics)\n",
            "  Downloading nvidia_cusolver_cu12-11.6.1.9-py3-none-manylinux2014_x86_64.whl.metadata (1.6 kB)\n",
            "Collecting nvidia-cusparse-cu12==12.3.1.170 (from torch>=1.8.0->ultralytics)\n",
            "  Downloading nvidia_cusparse_cu12-12.3.1.170-py3-none-manylinux2014_x86_64.whl.metadata (1.6 kB)\n",
            "Requirement already satisfied: nvidia-cusparselt-cu12==0.6.2 in /usr/local/lib/python3.11/dist-packages (from torch>=1.8.0->ultralytics) (0.6.2)\n",
            "Requirement already satisfied: nvidia-nccl-cu12==2.21.5 in /usr/local/lib/python3.11/dist-packages (from torch>=1.8.0->ultralytics) (2.21.5)\n",
            "Requirement already satisfied: nvidia-nvtx-cu12==12.4.127 in /usr/local/lib/python3.11/dist-packages (from torch>=1.8.0->ultralytics) (12.4.127)\n",
            "Collecting nvidia-nvjitlink-cu12==12.4.127 (from torch>=1.8.0->ultralytics)\n",
            "  Downloading nvidia_nvjitlink_cu12-12.4.127-py3-none-manylinux2014_x86_64.whl.metadata (1.5 kB)\n",
            "Requirement already satisfied: triton==3.2.0 in /usr/local/lib/python3.11/dist-packages (from torch>=1.8.0->ultralytics) (3.2.0)\n",
            "Requirement already satisfied: sympy==1.13.1 in /usr/local/lib/python3.11/dist-packages (from torch>=1.8.0->ultralytics) (1.13.1)\n",
            "Requirement already satisfied: mpmath<1.4,>=1.1.0 in /usr/local/lib/python3.11/dist-packages (from sympy==1.13.1->torch>=1.8.0->ultralytics) (1.3.0)\n",
            "Requirement already satisfied: six>=1.5 in /usr/local/lib/python3.11/dist-packages (from python-dateutil>=2.7->matplotlib>=3.3.0->ultralytics) (1.17.0)\n",
            "Requirement already satisfied: MarkupSafe>=2.0 in /usr/local/lib/python3.11/dist-packages (from jinja2->torch>=1.8.0->ultralytics) (3.0.2)\n",
            "Downloading ultralytics-8.3.155-py3-none-any.whl (1.0 MB)\n",
            "\u001b[2K   \u001b[90m━━━━━━━━━━━━━━━━━━━━━━━━━━━━━━━━━━━━━━━━\u001b[0m \u001b[32m1.0/1.0 MB\u001b[0m \u001b[31m28.5 MB/s\u001b[0m eta \u001b[36m0:00:00\u001b[0m\n",
            "\u001b[?25hDownloading nvidia_cublas_cu12-12.4.5.8-py3-none-manylinux2014_x86_64.whl (363.4 MB)\n",
            "\u001b[2K   \u001b[90m━━━━━━━━━━━━━━━━━━━━━━━━━━━━━━━━━━━━━━━━\u001b[0m \u001b[32m363.4/363.4 MB\u001b[0m \u001b[31m4.2 MB/s\u001b[0m eta \u001b[36m0:00:00\u001b[0m\n",
            "\u001b[?25hDownloading nvidia_cuda_cupti_cu12-12.4.127-py3-none-manylinux2014_x86_64.whl (13.8 MB)\n",
            "\u001b[2K   \u001b[90m━━━━━━━━━━━━━━━━━━━━━━━━━━━━━━━━━━━━━━━━\u001b[0m \u001b[32m13.8/13.8 MB\u001b[0m \u001b[31m67.4 MB/s\u001b[0m eta \u001b[36m0:00:00\u001b[0m\n",
            "\u001b[?25hDownloading nvidia_cuda_nvrtc_cu12-12.4.127-py3-none-manylinux2014_x86_64.whl (24.6 MB)\n",
            "\u001b[2K   \u001b[90m━━━━━━━━━━━━━━━━━━━━━━━━━━━━━━━━━━━━━━━━\u001b[0m \u001b[32m24.6/24.6 MB\u001b[0m \u001b[31m54.4 MB/s\u001b[0m eta \u001b[36m0:00:00\u001b[0m\n",
            "\u001b[?25hDownloading nvidia_cuda_runtime_cu12-12.4.127-py3-none-manylinux2014_x86_64.whl (883 kB)\n",
            "\u001b[2K   \u001b[90m━━━━━━━━━━━━━━━━━━━━━━━━━━━━━━━━━━━━━━━━\u001b[0m \u001b[32m883.7/883.7 kB\u001b[0m \u001b[31m39.5 MB/s\u001b[0m eta \u001b[36m0:00:00\u001b[0m\n",
            "\u001b[?25hDownloading nvidia_cudnn_cu12-9.1.0.70-py3-none-manylinux2014_x86_64.whl (664.8 MB)\n",
            "\u001b[2K   \u001b[90m━━━━━━━━━━━━━━━━━━━━━━━━━━━━━━━━━━━━━━━━\u001b[0m \u001b[32m664.8/664.8 MB\u001b[0m \u001b[31m1.0 MB/s\u001b[0m eta \u001b[36m0:00:00\u001b[0m\n",
            "\u001b[?25hDownloading nvidia_cufft_cu12-11.2.1.3-py3-none-manylinux2014_x86_64.whl (211.5 MB)\n",
            "\u001b[2K   \u001b[90m━━━━━━━━━━━━━━━━━━━━━━━━━━━━━━━━━━━━━━━━\u001b[0m \u001b[32m211.5/211.5 MB\u001b[0m \u001b[31m6.1 MB/s\u001b[0m eta \u001b[36m0:00:00\u001b[0m\n",
            "\u001b[?25hDownloading nvidia_curand_cu12-10.3.5.147-py3-none-manylinux2014_x86_64.whl (56.3 MB)\n",
            "\u001b[2K   \u001b[90m━━━━━━━━━━━━━━━━━━━━━━━━━━━━━━━━━━━━━━━━\u001b[0m \u001b[32m56.3/56.3 MB\u001b[0m \u001b[31m15.6 MB/s\u001b[0m eta \u001b[36m0:00:00\u001b[0m\n",
            "\u001b[?25hDownloading nvidia_cusolver_cu12-11.6.1.9-py3-none-manylinux2014_x86_64.whl (127.9 MB)\n",
            "\u001b[2K   \u001b[90m━━━━━━━━━━━━━━━━━━━━━━━━━━━━━━━━━━━━━━━━\u001b[0m \u001b[32m127.9/127.9 MB\u001b[0m \u001b[31m7.4 MB/s\u001b[0m eta \u001b[36m0:00:00\u001b[0m\n",
            "\u001b[?25hDownloading nvidia_cusparse_cu12-12.3.1.170-py3-none-manylinux2014_x86_64.whl (207.5 MB)\n",
            "\u001b[2K   \u001b[90m━━━━━━━━━━━━━━━━━━━━━━━━━━━━━━━━━━━━━━━━\u001b[0m \u001b[32m207.5/207.5 MB\u001b[0m \u001b[31m6.6 MB/s\u001b[0m eta \u001b[36m0:00:00\u001b[0m\n",
            "\u001b[?25hDownloading nvidia_nvjitlink_cu12-12.4.127-py3-none-manylinux2014_x86_64.whl (21.1 MB)\n",
            "\u001b[2K   \u001b[90m━━━━━━━━━━━━━━━━━━━━━━━━━━━━━━━━━━━━━━━━\u001b[0m \u001b[32m21.1/21.1 MB\u001b[0m \u001b[31m52.1 MB/s\u001b[0m eta \u001b[36m0:00:00\u001b[0m\n",
            "\u001b[?25hDownloading ultralytics_thop-2.0.14-py3-none-any.whl (26 kB)\n",
            "Installing collected packages: nvidia-nvjitlink-cu12, nvidia-curand-cu12, nvidia-cufft-cu12, nvidia-cuda-runtime-cu12, nvidia-cuda-nvrtc-cu12, nvidia-cuda-cupti-cu12, nvidia-cublas-cu12, nvidia-cusparse-cu12, nvidia-cudnn-cu12, nvidia-cusolver-cu12, ultralytics-thop, ultralytics\n",
            "  Attempting uninstall: nvidia-nvjitlink-cu12\n",
            "    Found existing installation: nvidia-nvjitlink-cu12 12.5.82\n",
            "    Uninstalling nvidia-nvjitlink-cu12-12.5.82:\n",
            "      Successfully uninstalled nvidia-nvjitlink-cu12-12.5.82\n",
            "  Attempting uninstall: nvidia-curand-cu12\n",
            "    Found existing installation: nvidia-curand-cu12 10.3.6.82\n",
            "    Uninstalling nvidia-curand-cu12-10.3.6.82:\n",
            "      Successfully uninstalled nvidia-curand-cu12-10.3.6.82\n",
            "  Attempting uninstall: nvidia-cufft-cu12\n",
            "    Found existing installation: nvidia-cufft-cu12 11.2.3.61\n",
            "    Uninstalling nvidia-cufft-cu12-11.2.3.61:\n",
            "      Successfully uninstalled nvidia-cufft-cu12-11.2.3.61\n",
            "  Attempting uninstall: nvidia-cuda-runtime-cu12\n",
            "    Found existing installation: nvidia-cuda-runtime-cu12 12.5.82\n",
            "    Uninstalling nvidia-cuda-runtime-cu12-12.5.82:\n",
            "      Successfully uninstalled nvidia-cuda-runtime-cu12-12.5.82\n",
            "  Attempting uninstall: nvidia-cuda-nvrtc-cu12\n",
            "    Found existing installation: nvidia-cuda-nvrtc-cu12 12.5.82\n",
            "    Uninstalling nvidia-cuda-nvrtc-cu12-12.5.82:\n",
            "      Successfully uninstalled nvidia-cuda-nvrtc-cu12-12.5.82\n",
            "  Attempting uninstall: nvidia-cuda-cupti-cu12\n",
            "    Found existing installation: nvidia-cuda-cupti-cu12 12.5.82\n",
            "    Uninstalling nvidia-cuda-cupti-cu12-12.5.82:\n",
            "      Successfully uninstalled nvidia-cuda-cupti-cu12-12.5.82\n",
            "  Attempting uninstall: nvidia-cublas-cu12\n",
            "    Found existing installation: nvidia-cublas-cu12 12.5.3.2\n",
            "    Uninstalling nvidia-cublas-cu12-12.5.3.2:\n",
            "      Successfully uninstalled nvidia-cublas-cu12-12.5.3.2\n",
            "  Attempting uninstall: nvidia-cusparse-cu12\n",
            "    Found existing installation: nvidia-cusparse-cu12 12.5.1.3\n",
            "    Uninstalling nvidia-cusparse-cu12-12.5.1.3:\n",
            "      Successfully uninstalled nvidia-cusparse-cu12-12.5.1.3\n",
            "  Attempting uninstall: nvidia-cudnn-cu12\n",
            "    Found existing installation: nvidia-cudnn-cu12 9.3.0.75\n",
            "    Uninstalling nvidia-cudnn-cu12-9.3.0.75:\n",
            "      Successfully uninstalled nvidia-cudnn-cu12-9.3.0.75\n",
            "  Attempting uninstall: nvidia-cusolver-cu12\n",
            "    Found existing installation: nvidia-cusolver-cu12 11.6.3.83\n",
            "    Uninstalling nvidia-cusolver-cu12-11.6.3.83:\n",
            "      Successfully uninstalled nvidia-cusolver-cu12-11.6.3.83\n",
            "Successfully installed nvidia-cublas-cu12-12.4.5.8 nvidia-cuda-cupti-cu12-12.4.127 nvidia-cuda-nvrtc-cu12-12.4.127 nvidia-cuda-runtime-cu12-12.4.127 nvidia-cudnn-cu12-9.1.0.70 nvidia-cufft-cu12-11.2.1.3 nvidia-curand-cu12-10.3.5.147 nvidia-cusolver-cu12-11.6.1.9 nvidia-cusparse-cu12-12.3.1.170 nvidia-nvjitlink-cu12-12.4.127 ultralytics-8.3.155 ultralytics-thop-2.0.14\n"
          ]
        }
      ]
    },
    {
      "cell_type": "code",
      "execution_count": 3,
      "metadata": {
        "colab": {
          "base_uri": "https://localhost:8080/"
        },
        "id": "sZH2OuTYHHXf",
        "outputId": "cf4db29a-614d-4c2a-d7c7-1c31a14b6a81"
      },
      "outputs": [
        {
          "output_type": "stream",
          "name": "stdout",
          "text": [
            "Creating new Ultralytics Settings v0.0.6 file ✅ \n",
            "View Ultralytics Settings with 'yolo settings' or at '/root/.config/Ultralytics/settings.json'\n",
            "Update Settings with 'yolo settings key=value', i.e. 'yolo settings runs_dir=path/to/dir'. For help see https://docs.ultralytics.com/quickstart/#ultralytics-settings.\n",
            "Downloading https://github.com/ultralytics/assets/releases/download/v8.3.0/yolov8m.pt to 'yolov8m.pt'...\n"
          ]
        },
        {
          "output_type": "stream",
          "name": "stderr",
          "text": [
            "100%|██████████| 49.7M/49.7M [00:00<00:00, 126MB/s]\n"
          ]
        }
      ],
      "source": [
        "from ultralytics import YOLO\n",
        "import numpy as np\n",
        "import scipy\n",
        "import torch\n",
        "import cv2\n",
        "model = YOLO(\"yolov8m.pt\")\n",
        "yolo_classes = model.names"
      ]
    },
    {
      "cell_type": "code",
      "execution_count": 4,
      "metadata": {
        "id": "U_2PyBYOi83v"
      },
      "outputs": [],
      "source": [
        "def yolo_predict(imgs, YOLO_model):\n",
        "    # Load YOLO model\n",
        "    model = YOLO_model\n",
        "\n",
        "    det = []\n",
        "    lbls = []\n",
        "    mask = []\n",
        "    plotting = []\n",
        "\n",
        "    for img in imgs:\n",
        "        # Predict using the model\n",
        "        results = model.predict(img)\n",
        "        result = results[0]\n",
        "        plot = result.plot()\n",
        "\n",
        "        # Get bounding boxes, class labels, confidences, and masks\n",
        "        detections = [box.xyxy[0].tolist() for box in result.boxes]\n",
        "        labels = [result.names[box.cls[0].item()] for box in result.boxes]\n",
        "\n",
        "        det.append(detections)\n",
        "        lbls.append(labels)\n",
        "        plotting.append(plot)\n",
        "\n",
        "    return det, lbls, plotting"
      ]
    },
    {
      "cell_type": "code",
      "execution_count": 5,
      "metadata": {
        "id": "DTvAto6Ai83w"
      },
      "outputs": [],
      "source": [
        "# det is the bounding boxes, lbls is the class labels for each detection and plotting is the left and right images ready to be shown\n",
        "# get centr, top left and bottom right of boxes\n",
        "\n",
        "def tlbr_to_center1(boxes):\n",
        "    points = []\n",
        "    for tlx, tly, brx, bry in boxes:\n",
        "        cx = (tlx + brx) / 2\n",
        "        cy = (tly + bry) / 2\n",
        "        points.append([cx, cy])\n",
        "    return points\n",
        "\n",
        "\n",
        "def tlbr_to_corner(boxes):\n",
        "    points = []\n",
        "    for tlx, tly, brx, bry in boxes:\n",
        "        cx = (tlx + tlx) / 2\n",
        "        cy = (tly + tly) / 2\n",
        "        points.append((cx, cy))\n",
        "    return points\n",
        "\n",
        "\n",
        "def tlbr_to_corner_br(boxes):\n",
        "    points = []\n",
        "    for tlx, tly, brx, bry in boxes:\n",
        "        cx = (brx + brx) / 2\n",
        "        cy = (bry + bry) / 2\n",
        "        points.append((cx, cy))\n",
        "    return points\n",
        "\n",
        "\n",
        "def tlbr_to_area(boxes):\n",
        "    areas = []\n",
        "    for tlx, tly, brx, bry in boxes:\n",
        "        cx = brx - tlx\n",
        "        cy = bry - tly\n",
        "        areas.append(abs(cx * cy))\n",
        "    return areas"
      ]
    },
    {
      "cell_type": "code",
      "execution_count": 6,
      "metadata": {
        "id": "KOagP_mKi83w"
      },
      "outputs": [],
      "source": [
        "# get all distances from every object box to every other object box\n",
        "# left image is boxes[0]\n",
        "# right image is boxes[1]\n",
        "\n",
        "# do broad casting.\n",
        "# in python, col vector - row vector gives matrix:\n",
        "# [a] - [c,d] = [a-c, a-d]\n",
        "# [b]           [b-c, b-d]\n",
        "\n",
        "def get_horiz_dist_centre(boxes):\n",
        "    pnts1 = np.array(tlbr_to_center1(boxes[0]))[:, 0]\n",
        "    pnts2 = np.array(tlbr_to_center1(boxes[1]))[:, 0]\n",
        "    return pnts1[:, None] - pnts2[None]\n",
        "\n",
        "\n",
        "def get_horiz_dist_corner_tl(boxes):\n",
        "    pnts1 = np.array(tlbr_to_corner(boxes[0]))[:, 0]\n",
        "    pnts2 = np.array(tlbr_to_corner(boxes[1]))[:, 0]\n",
        "    return pnts1[:, None] - pnts2[None]\n",
        "\n",
        "\n",
        "def get_horiz_dist_corner_br(boxes):\n",
        "    pnts1 = np.array(tlbr_to_corner_br(boxes[0]))[:, 0]\n",
        "    pnts2 = np.array(tlbr_to_corner_br(boxes[1]))[:, 0]\n",
        "    return pnts1[:, None] - pnts2[None]\n",
        "\n",
        "\n",
        "def get_vertic_dist_centre(boxes):\n",
        "    pnts1 = np.array(tlbr_to_center1(boxes[0]))[:, 1]\n",
        "    pnts2 = np.array(tlbr_to_center1(boxes[1]))[:, 1]\n",
        "    return pnts1[:, None] - pnts2[None]\n",
        "\n",
        "\n",
        "def get_area_diffs(boxes):\n",
        "    pnts1 = np.array(tlbr_to_area(boxes[0]))\n",
        "    pnts2 = np.array(tlbr_to_area(boxes[1]))\n",
        "    return abs(pnts1[:, None] - pnts2[None])\n",
        "\n",
        "\n",
        "def get_dist_to_centre_tl(box, img):\n",
        "    sz1 = img.shape[1]\n",
        "    center = sz1 / 2\n",
        "    pnts = np.array(tlbr_to_corner(box))[:, 0]\n",
        "    return abs(pnts - center)\n",
        "\n",
        "\n",
        "def get_dist_to_centre_br(box, img):\n",
        "    sz1 = img.shape[1]\n",
        "    center = sz1 / 2\n",
        "    pnts = np.array(tlbr_to_corner_br(box))[:, 0]\n",
        "    return abs(pnts - center)"
      ]
    },
    {
      "cell_type": "code",
      "execution_count": 7,
      "metadata": {
        "id": "KSsv1MNZi83x"
      },
      "outputs": [],
      "source": [
        "# create the tracking cost function.\n",
        "# consists of theree parts.\n",
        "#  1. The vertical move up and down of object centre of mass. Scale this up because we do not expect this to be very much.\n",
        "#  2. The move left or right by the object. We only expect it to move right (from the left eye image). So penalise if it moves left.\n",
        "#  3. The difference in area of pixels. Area of image is width x height, so divide by height, there for this will have max value of width\n",
        "\n",
        "def get_cost(boxes, img, lbls=None):\n",
        "\n",
        "    sz1 = img.shape[1]\n",
        "\n",
        "    alpha = sz1\n",
        "    beta = 10\n",
        "    gamma = 5\n",
        "\n",
        "    # vertical_dist, scale by gamma since can't move up or down\n",
        "    vert_dist = gamma * abs(get_vertic_dist_centre(boxes))\n",
        "\n",
        "    # horizonatl distance.\n",
        "    horiz_dist = get_horiz_dist_centre(boxes)\n",
        "\n",
        "    # increase cost if object has moved from right to left.\n",
        "    horiz_dist[horiz_dist < 0] = beta * abs(horiz_dist[horiz_dist < 0])\n",
        "\n",
        "    # area of box\n",
        "    area_diffs = get_area_diffs(boxes) / alpha\n",
        "\n",
        "    cost = np.array([vert_dist, horiz_dist, area_diffs])\n",
        "\n",
        "    cost = cost.sum(axis=0)\n",
        "\n",
        "    # add penalty term for different object classes\n",
        "    if lbls is not None:\n",
        "        for i in range(cost.shape[0]):\n",
        "            for j in range(cost.shape[1]):\n",
        "                if lbls[0][i] != lbls[1][j]:\n",
        "                    cost[i, j] += 150\n",
        "    return cost"
      ]
    },
    {
      "cell_type": "code",
      "execution_count": 9,
      "metadata": {
        "id": "fEZ1J8F8i83x"
      },
      "outputs": [],
      "source": [
        "def get_horiz_dist(masks, prob_thresh=0.7):\n",
        "    # gets the horizontal distance between the centre of mass for each object\n",
        "    # left masks\n",
        "    mask_bool = masks[0] > prob_thresh\n",
        "    mask_bool = mask_bool.squeeze(1)\n",
        "    # right masks\n",
        "    mask_bool2 = masks[1] > prob_thresh\n",
        "    mask_bool2 = mask_bool2.squeeze(1)\n",
        "\n",
        "    # left params\n",
        "    # com1 is center of mass of height\n",
        "    # com2 is center of mass of width\n",
        "    mask_size = (mask_bool).sum(dim=[1, 2])\n",
        "    mask_com_matrix_1 = torch.tensor(range(mask_bool.shape[1]))\n",
        "    com1 = ((mask_com_matrix_1.unsqueeze(1)) * mask_bool).sum(dim=[1, 2]) / mask_size\n",
        "    mask_com_matrix_2 = torch.tensor(range(mask_bool.shape[2]))\n",
        "    com2 = ((mask_com_matrix_2.unsqueeze(0)) * mask_bool).sum(dim=[1, 2]) / mask_size\n",
        "\n",
        "    left_params = torch.stack((com1, com2, mask_size)).transpose(1, 0)\n",
        "\n",
        "    # get right params\n",
        "    mask_size2 = (mask_bool2).sum(dim=[1, 2])\n",
        "    mask_com_matrix_12 = torch.tensor(range(mask_bool2.shape[1]))\n",
        "    com12 = ((mask_com_matrix_12.unsqueeze(1)) * mask_bool2).sum(\n",
        "        dim=[1, 2]\n",
        "    ) / mask_size2\n",
        "    mask_com_matrix_22 = torch.tensor(range(mask_bool2.shape[2]))\n",
        "    com22 = ((mask_com_matrix_22.unsqueeze(0)) * mask_bool2).sum(\n",
        "        dim=[1, 2]\n",
        "    ) / mask_size2\n",
        "\n",
        "    right_params = torch.stack((com12, com22, mask_size2)).transpose(1, 0)\n",
        "\n",
        "    # calculate cost function\n",
        "    cost = left_params[:, None] - right_params[None]\n",
        "    return cost[:, :, 1]\n"
      ]
    },
    {
      "cell_type": "code",
      "source": [
        "def get_tracks(cost):\n",
        "    return scipy.optimize.linear_sum_assignment(cost)"
      ],
      "metadata": {
        "id": "INko4gTfjlNN"
      },
      "execution_count": 10,
      "outputs": []
    },
    {
      "cell_type": "code",
      "source": [
        "def get_object_dist(object_name, final_dists_list, tantheta, fl, sz1):\n",
        "    distance = None\n",
        "    try:\n",
        "        for dist, label in final_dists_list:\n",
        "            if label == object_name:\n",
        "                distance = dist\n",
        "                break\n",
        "        else:\n",
        "            raise ValueError(f\"No object found with label: {object_name}\")\n",
        "\n",
        "        x = (7.05 / 2) * sz1 * (1 / tantheta) / distance + fl\n",
        "        return round(x, ndigits=1)\n",
        "    except ValueError as e:\n",
        "        print(e)\n",
        "        return None"
      ],
      "metadata": {
        "id": "qJc8I_Q7jq9W"
      },
      "execution_count": 11,
      "outputs": []
    },
    {
      "cell_type": "code",
      "source": [
        "def recognise_distance(left, right, object_name):\n",
        "    Left_img=cv2.imread(left)\n",
        "    Right_img=cv2.imread(right)\n",
        "    imgs = [Left_img, Right_img]\n",
        "    det, lbls, plotting = yolo_predict(imgs, model)\n",
        "    sz1 = Right_img.shape[1]\n",
        "    sz2 = Right_img.shape[0]\n",
        "    centre = sz1 / 2\n",
        "    tmp1 = get_dist_to_centre_br(det[0],Right_img)\n",
        "    tmp2 = get_dist_to_centre_br(det[1],Right_img)\n",
        "    cost = get_cost(det,Right_img, lbls=lbls)\n",
        "    tracks = get_tracks(cost)\n",
        "    h_d = [[lbls[0][i], lbls[1][j]] for i, j in zip(*tracks)]\n",
        "    dists_tl = get_horiz_dist_corner_tl(det)\n",
        "    dists_br = get_horiz_dist_corner_br(det)\n",
        "\n",
        "    final_dists = []\n",
        "    dctl = get_dist_to_centre_tl(det[0],Left_img)\n",
        "    dcbr = get_dist_to_centre_br(det[0],Left_img)\n",
        "\n",
        "    for i, j in zip(*tracks):\n",
        "        if dctl[i] < dcbr[i]:\n",
        "            final_dists.append((dists_tl[i][j], lbls[0][i]))\n",
        "\n",
        "        else:\n",
        "            final_dists.append((dists_br[i][j], lbls[0][i]))\n",
        "    fl = 30 - 37.9 * 50 / 68.2459\n",
        "    tantheta = (1 / (50 - fl)) * (7.05 / 2) * sz1 / 37.9\n",
        "    fd = [i for (i, j) in final_dists]\n",
        "    distance = get_object_dist(\n",
        "        final_dists_list=final_dists,\n",
        "        object_name=object_name,\n",
        "        fl=fl,\n",
        "        tantheta=tantheta,\n",
        "        sz1=sz1,\n",
        "    )\n",
        "\n",
        "    return distance\n"
      ],
      "metadata": {
        "id": "PpULF3zljuL9"
      },
      "execution_count": 12,
      "outputs": []
    },
    {
      "cell_type": "code",
      "source": [
        "distance=recognise_distance(\n",
        "    \"/content/drive/MyDrive/distance/left_eye_50cm.jpg\",\n",
        "    \"/content/drive/MyDrive/distance/right_eye_50cm.jpg\",\n",
        "    \"bottle\",\n",
        ")"
      ],
      "metadata": {
        "colab": {
          "base_uri": "https://localhost:8080/"
        },
        "id": "nXJSOHiQjxik",
        "outputId": "bddb4519-7db6-4437-c768-282c355baa3b"
      },
      "execution_count": 15,
      "outputs": [
        {
          "output_type": "stream",
          "name": "stdout",
          "text": [
            "\n",
            "0: 480x640 1 bottle, 1 tv, 1 cell phone, 1203.6ms\n",
            "Speed: 10.8ms preprocess, 1203.6ms inference, 5.0ms postprocess per image at shape (1, 3, 480, 640)\n",
            "\n",
            "0: 480x640 1 bottle, 1 tv, 1 cell phone, 1012.3ms\n",
            "Speed: 4.6ms preprocess, 1012.3ms inference, 1.8ms postprocess per image at shape (1, 3, 480, 640)\n"
          ]
        }
      ]
    },
    {
      "cell_type": "code",
      "source": [
        "print(f\"The final distance is {distance} cm\")"
      ],
      "metadata": {
        "colab": {
          "base_uri": "https://localhost:8080/"
        },
        "id": "Q6Sxd1esj2hc",
        "outputId": "351ad6ff-0c91-464f-d2d7-0d7271d72de3"
      },
      "execution_count": 16,
      "outputs": [
        {
          "output_type": "stream",
          "name": "stdout",
          "text": [
            "The final distance is 49.7 cm\n"
          ]
        }
      ]
    }
  ],
  "metadata": {
    "colab": {
      "provenance": []
    },
    "kernelspec": {
      "display_name": "tf",
      "language": "python",
      "name": "python3"
    },
    "language_info": {
      "name": "python",
      "version": "3.10.16"
    }
  },
  "nbformat": 4,
  "nbformat_minor": 0
}